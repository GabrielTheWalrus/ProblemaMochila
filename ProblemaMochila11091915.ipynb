{
  "nbformat": 4,
  "nbformat_minor": 0,
  "metadata": {
    "colab": {
      "provenance": []
    },
    "kernelspec": {
      "name": "python3",
      "display_name": "Python 3"
    },
    "language_info": {
      "name": "python"
    }
  },
  "cells": [
    {
      "cell_type": "markdown",
      "source": [
        "## Problema da mochila - Algoritmos Genéticos - UFABC - Q1.2024 - Gabriel Meale 11091915"
      ],
      "metadata": {
        "id": "2oxKlDf2qw1K"
      }
    },
    {
      "cell_type": "markdown",
      "source": [
        "### Configs"
      ],
      "metadata": {
        "id": "EwH6y1IirLwv"
      }
    },
    {
      "cell_type": "code",
      "execution_count": 1,
      "metadata": {
        "id": "T4F7LHbPqtw0"
      },
      "outputs": [],
      "source": [
        "import random\n",
        "from typing import List"
      ]
    },
    {
      "cell_type": "code",
      "source": [
        "ITENS = [\n",
        "    {\"nome\": \"Barraca\", \"valor\": 150, \"peso\": 3.5},\n",
        "    {\"nome\": \"Saco de dormir\", \"valor\": 100, \"peso\": 2.0},\n",
        "    {\"nome\": \"Isolante térmico\", \"valor\": 50, \"peso\": 0.5},\n",
        "    {\"nome\": \"Colchão inflável\", \"valor\": 80, \"peso\": 1.0},\n",
        "    {\"nome\": \"Lanterna\", \"valor\": 30, \"peso\": 0.2},\n",
        "    {\"nome\": \"Kit de primeiros socorros\", \"valor\": 20, \"peso\": 0.5},\n",
        "    {\"nome\": \"Repelente de insetos\", \"valor\": 15, \"peso\": 0.1},\n",
        "    {\"nome\": \"Protetor solar\", \"valor\": 20, \"peso\": 0.2},\n",
        "    {\"nome\": \"Canivete\", \"valor\": 10, \"peso\": 0.1},\n",
        "    {\"nome\": \"Mapa e bússola\", \"valor\": 25, \"peso\": 0.3},\n",
        "    {\"nome\": \"Garrafa de água\", \"valor\": 15, \"peso\": 1.8},\n",
        "    {\"nome\": \"Filtro de água\", \"valor\": 50, \"peso\": 0.5},\n",
        "    {\"nome\": \"Comida (ração liofilizada)\", \"valor\": 50, \"peso\": 3.0},\n",
        "    {\"nome\": \"Fogão de camping\", \"valor\": 70, \"peso\": 1.5},\n",
        "    {\"nome\": \"Botijão de gás\", \"valor\": 30, \"peso\": 1.2},\n",
        "    {\"nome\": \"Prato, talheres e caneca\", \"valor\": 20, \"peso\": 0.5},\n",
        "    {\"nome\": \"Roupas (conjunto)\", \"valor\": 80, \"peso\": 1.5},\n",
        "    {\"nome\": \"Calçados (botas)\", \"valor\": 120, \"peso\": 2.0},\n",
        "    {\"nome\": \"Toalha\", \"valor\": 20, \"peso\": 0.5},\n",
        "    {\"nome\": \"Kit de higiene pessoal\", \"valor\": 30, \"peso\": 0.5}\n",
        "]\n",
        "\n",
        "CAPACIDADE_MOCHILA = 15.0\n",
        "\n",
        "TORNEIO = \"torneio\""
      ],
      "metadata": {
        "id": "jLx1aE5trAVF"
      },
      "execution_count": 2,
      "outputs": []
    },
    {
      "cell_type": "markdown",
      "source": [
        "### Classes auxiliares"
      ],
      "metadata": {
        "id": "5n94d4-irBTy"
      }
    },
    {
      "cell_type": "code",
      "source": [
        "class Individuo:\n",
        "    '''Classe que responsável por operações de indivíduo'''\n",
        "\n",
        "    def __init__(self):\n",
        "        self.cromossomo = self.criar_individuo()\n",
        "\n",
        "    def criar_individuo(self):\n",
        "        \"\"\"Cria um indivíduo (cromossomo) aleatório.\"\"\"\n",
        "        return [random.randint(0, 1) for _ in range(len(ITENS))]\n"
      ],
      "metadata": {
        "id": "J-ajniy-rQ2l"
      },
      "execution_count": 3,
      "outputs": []
    },
    {
      "cell_type": "code",
      "source": [
        "class AlgoritmoGenetico:\n",
        "    '''\n",
        "        Classe que implementa o algoritmo genético\n",
        "    '''\n",
        "\n",
        "    def __init__(\n",
        "            self, tamanho_populacao : int = 100,\n",
        "            max_geracoes : int = 100,\n",
        "            taxa_mutacao : float = 0.1,\n",
        "            mutacao_flag : bool = True,\n",
        "            crossover_flag : bool = True,\n",
        "            tipo_selecao = TORNEIO,\n",
        "            torneio_size : int = 3\n",
        "        ):\n",
        "        self.tamanho_populacao = tamanho_populacao\n",
        "        self.max_geracoes = max_geracoes\n",
        "        self.taxa_mutacao = taxa_mutacao\n",
        "        self.mutacao_flag = mutacao_flag\n",
        "        self.crossover_flag = crossover_flag\n",
        "        self.populacao = []\n",
        "        self.tipo_selecao = tipo_selecao\n",
        "        self.torneio_size = torneio_size\n",
        "\n",
        "    def criar_populacao(self):\n",
        "        '''\n",
        "            Função que cria a população de indivíduos\n",
        "        '''\n",
        "        self.populacao = []\n",
        "\n",
        "        for _ in range(self.tamanho_populacao):\n",
        "            self.populacao.append(Individuo())\n",
        "\n",
        "        return self.populacao\n",
        "\n",
        "    def mutacao(self, individuo: Individuo):\n",
        "        '''\n",
        "            Realiza a mutação em um indivíduo trocando aleatoriamente alguns bits.\n",
        "        '''\n",
        "        for item in enumerate(individuo.cromossomo):\n",
        "            if random.random() < self.taxa_mutacao:\n",
        "                individuo.cromossomo[item[0]] = 1 - individuo.cromossomo[item[0]]\n",
        "\n",
        "        return individuo\n",
        "\n",
        "    def crossover_binario(self, pai1: Individuo, pai2: Individuo):\n",
        "        '''\n",
        "            Realiza o crossover de ponto único entre dois pais para gerar dois filhos.\n",
        "        '''\n",
        "        ponto_corte = random.randint(0, len(pai1.cromossomo) - 1)\n",
        "\n",
        "        filho1 = Individuo()\n",
        "        filho2 = Individuo()\n",
        "\n",
        "        filho1.cromossomo = pai1.cromossomo[:ponto_corte] + pai2.cromossomo[ponto_corte:]\n",
        "        filho2.cromossomo = pai2.cromossomo[:ponto_corte] + pai1.cromossomo[ponto_corte:]\n",
        "\n",
        "        return filho1, filho2\n",
        "\n",
        "    def selecao_torneio(self, populacao: List[Individuo]) -> list:\n",
        "        '''\n",
        "            Seleciona os pais usando o método de torneio.\n",
        "        '''\n",
        "        pais = []\n",
        "        for _ in range(2):  # Dois pais para o crossover\n",
        "            participantes = random.sample(populacao, self.torneio_size)\n",
        "            fitness = [self.calcular_fitness(participante) for participante in participantes]\n",
        "            index_melhor_participante = fitness.index(max(fitness))\n",
        "            melhor_participante = participantes[index_melhor_participante]\n",
        "            pais.append(melhor_participante)\n",
        "\n",
        "        return pais\n",
        "\n",
        "    def calcular_fitness(self, individuo: Individuo):\n",
        "        '''\n",
        "            Função que calcula fitness de cada indivíduo\n",
        "        '''\n",
        "\n",
        "        valor_total = 0\n",
        "        peso_total = 0\n",
        "\n",
        "        for item in enumerate(ITENS):\n",
        "            if individuo.cromossomo[item[0]] == 1:\n",
        "                valor_total += ITENS[item[0]][\"valor\"]\n",
        "                peso_total += ITENS[item[0]][\"peso\"]\n",
        "\n",
        "        if peso_total > CAPACIDADE_MOCHILA:\n",
        "            return 0 # Penaliza soluções que excedem a capacidade\n",
        "\n",
        "        return valor_total\n",
        "\n",
        "    def process(self):\n",
        "        '''\n",
        "            Função principal de processamento do algoritmo genetico\n",
        "        '''\n",
        "\n",
        "        self.criar_populacao()\n",
        "\n",
        "        for geracao in range(self.max_geracoes):\n",
        "\n",
        "            if self.tipo_selecao == TORNEIO:\n",
        "                pais = self.selecao_torneio(self.populacao)\n",
        "            else:\n",
        "                raise NotImplementedError\n",
        "\n",
        "            nova_populacao = []\n",
        "            for _ in range(self.tamanho_populacao // 2):\n",
        "                pai1 = pais[0]\n",
        "                pai2 = pais[1]\n",
        "                filho1, filho2 = self.crossover_binario(pai1, pai2)\n",
        "                filho1 = self.mutacao(filho1)\n",
        "                filho2 = self.mutacao(filho2)\n",
        "                nova_populacao.extend([filho1, filho2])\n",
        "\n",
        "            self.populacao = nova_populacao\n",
        "\n",
        "            aptidoes = [self.calcular_fitness(individuo) for individuo in self.populacao]\n",
        "            melhor_aptidao = max(aptidoes)\n",
        "            melhor_individuo = self.populacao[aptidoes.index(melhor_aptidao)]\n",
        "\n",
        "            if geracao % 10 == 0:\n",
        "                print(f\"Geração {geracao}: Melhor valor = R${melhor_aptidao}\")\n",
        "\n",
        "        return melhor_individuo, melhor_aptidao\n"
      ],
      "metadata": {
        "id": "7zoKL7wWrDvy"
      },
      "execution_count": 4,
      "outputs": []
    },
    {
      "cell_type": "markdown",
      "source": [
        "### Execução do código"
      ],
      "metadata": {
        "id": "5ajqLX7GrbET"
      }
    },
    {
      "cell_type": "code",
      "source": [
        "algoritmo_genetico = AlgoritmoGenetico()\n",
        "melhor_solucao, melhor_valor = algoritmo_genetico.process()\n",
        "\n",
        "# double check de fitness para a melhor solução\n",
        "if algoritmo_genetico.calcular_fitness(individuo=melhor_solucao) == melhor_valor:\n",
        "    print(f\"\\nMelhor solução encontrada: {melhor_solucao.cromossomo}\")\n",
        "    print(f\"Valor da melhor solução: R${melhor_valor}\")"
      ],
      "metadata": {
        "colab": {
          "base_uri": "https://localhost:8080/"
        },
        "id": "mMYB3FB3rdd5",
        "outputId": "5a97ce19-dd3e-4994-df58-e454c909b2c4"
      },
      "execution_count": 5,
      "outputs": [
        {
          "output_type": "stream",
          "name": "stdout",
          "text": [
            "Geração 0: Melhor valor = R$700\n",
            "Geração 10: Melhor valor = R$800\n",
            "Geração 20: Melhor valor = R$720\n",
            "Geração 30: Melhor valor = R$870\n",
            "Geração 40: Melhor valor = R$870\n",
            "Geração 50: Melhor valor = R$870\n",
            "Geração 60: Melhor valor = R$725\n",
            "Geração 70: Melhor valor = R$675\n",
            "Geração 80: Melhor valor = R$755\n",
            "Geração 90: Melhor valor = R$835\n",
            "\n",
            "Melhor solução encontrada: [1, 1, 1, 1, 1, 0, 0, 0, 0, 1, 0, 1, 0, 1, 1, 0, 1, 1, 1, 0]\n",
            "Valor da melhor solução: R$805\n"
          ]
        }
      ]
    },
    {
      "cell_type": "markdown",
      "source": [
        "### Ajuste hiperparametros e outros testes"
      ],
      "metadata": {
        "id": "n4OAg_hfDsV3"
      }
    },
    {
      "cell_type": "code",
      "source": [
        "tamanho_populacao = 10\n",
        "max_geracoes = 1\n",
        "taxa_mutacao = 0.1\n",
        "torneio_size = 3\n",
        "melhor_valor_geral = 0\n",
        "melhor_cromossomo_geral = []"
      ],
      "metadata": {
        "id": "ejmtbX6ABe8L"
      },
      "execution_count": 12,
      "outputs": []
    },
    {
      "cell_type": "code",
      "source": [
        "for i in range(tamanho_populacao, 200):\n",
        "    for j in range(max_geracoes, 200):\n",
        "        taxa_mutacao = 0.1\n",
        "        while taxa_mutacao <= 1.0:\n",
        "            for k in range(torneio_size, 10):\n",
        "                algoritmo_genetico = AlgoritmoGenetico(tamanho_populacao=i, max_geracoes=j, taxa_mutacao=taxa_mutacao, torneio_size=k)\n",
        "                melhor_solucao, melhor_valor = algoritmo_genetico.process()\n",
        "                if (melhor_valor >= melhor_valor_geral) and (algoritmo_genetico.calcular_fitness(individuo=melhor_solucao) == melhor_valor):\n",
        "                    melhor_valor_geral = melhor_valor\n",
        "                    melhor_cromossomo_geral = melhor_solucao\n",
        "                    print(\"--------------------------------------------\\n\")\n",
        "                    print(f\"\\nMelhor solução encontrada: {melhor_solucao.cromossomo}\")\n",
        "                    print(f\"Valor da melhor solução: R${melhor_valor}\")\n",
        "                    print(f\"tamanho_populacao: {tamanho_populacao}\")\n",
        "                    print(f\"max_geracoes: {max_geracoes}\")\n",
        "                    print(f\"taxa_mutacao: {taxa_mutacao}\")\n",
        "                    print(f\"torneio_size: {torneio_size}\")\n",
        "                    print(\"--------------------------------------------\\n\")\n",
        "            taxa_mutacao += 0.1"
      ],
      "metadata": {
        "id": "L88dSUL8D9JJ"
      },
      "execution_count": null,
      "outputs": []
    },
    {
      "cell_type": "markdown",
      "source": [
        "### Teste final com hiperparâmetros ajustados"
      ],
      "metadata": {
        "id": "r0ivQwt-cPsW"
      }
    },
    {
      "cell_type": "code",
      "source": [
        "tamanho_populacao = 300\n",
        "max_geracoes = 300\n",
        "taxa_mutacao = 0.25\n",
        "torneio_size = 3"
      ],
      "metadata": {
        "id": "uDZwxCSecSYk"
      },
      "execution_count": 32,
      "outputs": []
    },
    {
      "cell_type": "code",
      "source": [
        "algoritmo_genetico = AlgoritmoGenetico(tamanho_populacao=tamanho_populacao, max_geracoes=max_geracoes, taxa_mutacao=taxa_mutacao, torneio_size=torneio_size)\n",
        "melhor_solucao, melhor_valor = algoritmo_genetico.process()\n",
        "\n",
        "if algoritmo_genetico.calcular_fitness(individuo=melhor_solucao) == melhor_valor:\n",
        "    print(f\"\\nMelhor solução encontrada: {melhor_solucao.cromossomo}\")\n",
        "    print(f\"Valor da melhor solução: R${melhor_valor}\")"
      ],
      "metadata": {
        "colab": {
          "base_uri": "https://localhost:8080/"
        },
        "id": "NiMov9JpcYz_",
        "outputId": "1db4a1f9-7ff9-407d-b429-d947fbdebf7c"
      },
      "execution_count": 33,
      "outputs": [
        {
          "output_type": "stream",
          "name": "stdout",
          "text": [
            "Geração 0: Melhor valor = R$740\n",
            "Geração 10: Melhor valor = R$780\n",
            "Geração 20: Melhor valor = R$740\n",
            "Geração 30: Melhor valor = R$775\n",
            "Geração 40: Melhor valor = R$790\n",
            "Geração 50: Melhor valor = R$765\n",
            "Geração 60: Melhor valor = R$790\n",
            "Geração 70: Melhor valor = R$765\n",
            "Geração 80: Melhor valor = R$740\n",
            "Geração 90: Melhor valor = R$755\n",
            "Geração 100: Melhor valor = R$805\n",
            "Geração 110: Melhor valor = R$825\n",
            "Geração 120: Melhor valor = R$805\n",
            "Geração 130: Melhor valor = R$830\n",
            "Geração 140: Melhor valor = R$775\n",
            "Geração 150: Melhor valor = R$815\n",
            "Geração 160: Melhor valor = R$765\n",
            "Geração 170: Melhor valor = R$770\n",
            "Geração 180: Melhor valor = R$735\n",
            "Geração 190: Melhor valor = R$755\n",
            "Geração 200: Melhor valor = R$805\n",
            "Geração 210: Melhor valor = R$750\n",
            "Geração 220: Melhor valor = R$810\n",
            "Geração 230: Melhor valor = R$800\n",
            "Geração 240: Melhor valor = R$780\n",
            "Geração 250: Melhor valor = R$800\n",
            "Geração 260: Melhor valor = R$805\n",
            "Geração 270: Melhor valor = R$815\n",
            "Geração 280: Melhor valor = R$785\n",
            "Geração 290: Melhor valor = R$805\n",
            "\n",
            "Melhor solução encontrada: [1, 1, 1, 1, 1, 1, 1, 1, 1, 1, 0, 1, 0, 1, 0, 1, 1, 1, 0, 1]\n",
            "Valor da melhor solução: R$870\n"
          ]
        }
      ]
    }
  ]
}